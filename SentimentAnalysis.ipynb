{
  "nbformat": 4,
  "nbformat_minor": 0,
  "metadata": {
    "colab": {
      "provenance": [],
      "gpuType": "T4",
      "authorship_tag": "ABX9TyMceDfW1k2z+hUeVTp1isXR",
      "include_colab_link": true
    },
    "kernelspec": {
      "name": "python3",
      "display_name": "Python 3"
    },
    "language_info": {
      "name": "python"
    },
    "accelerator": "GPU"
  },
  "cells": [
    {
      "cell_type": "markdown",
      "metadata": {
        "id": "view-in-github",
        "colab_type": "text"
      },
      "source": [
        "<a href=\"https://colab.research.google.com/github/shantanu812/MLProjects/blob/main/SentimentAnalysis.ipynb\" target=\"_parent\"><img src=\"https://colab.research.google.com/assets/colab-badge.svg\" alt=\"Open In Colab\"/></a>"
      ]
    },
    {
      "cell_type": "code",
      "source": [
        "import sys\n",
        "\n",
        "assert sys.version_info >= (3, 7)"
      ],
      "metadata": {
        "id": "ivI9nvJE9Ts2"
      },
      "execution_count": 1,
      "outputs": []
    },
    {
      "cell_type": "code",
      "source": [
        "IS_COLAB = \"google.colab\" in sys.modules\n",
        "if IS_COLAB:\n",
        "    import os\n",
        "    os.environ[\"TF_USE_LEGACY_KERAS\"] = \"1\"\n",
        "    import tf_keras"
      ],
      "metadata": {
        "id": "s7e2VrXB9FLR"
      },
      "execution_count": 2,
      "outputs": []
    },
    {
      "cell_type": "code",
      "source": [
        "from packaging import version\n",
        "import tensorflow as tf\n",
        "\n",
        "assert version.parse(tf.__version__) >= version.parse(\"2.8.0\")"
      ],
      "metadata": {
        "id": "7LArBC7V9VpO"
      },
      "execution_count": 3,
      "outputs": []
    },
    {
      "cell_type": "code",
      "source": [
        "if not tf.config.list_physical_devices('GPU'):\n",
        "    print(\"No GPU was detected. Neural nets can be very slow without a GPU.\")\n",
        "    if \"google.colab\" in sys.modules:\n",
        "        print(\"Go to Runtime > Change runtime and select a GPU hardware \"\n",
        "              \"accelerator.\")\n",
        "    if \"kaggle_secrets\" in sys.modules:\n",
        "        print(\"Go to Settings > Accelerator and select GPU.\")"
      ],
      "metadata": {
        "id": "S_n21Neo9lnn"
      },
      "execution_count": 4,
      "outputs": []
    },
    {
      "cell_type": "code",
      "execution_count": 9,
      "metadata": {
        "id": "C_eMybpdofD7"
      },
      "outputs": [],
      "source": [
        "import tensorflow_datasets as tfds\n",
        "raw_train_set,raw_valid_set,raw_test_set = tfds.load(name='imdb_reviews',split=['train[:90%]','train[90%:]','test'],as_supervised=True)\n",
        "tf.random.set_seed(42)\n",
        "train_set = raw_train_set.shuffle(5000,seed=42).batch(32).prefetch(1)\n",
        "valid_set = raw_valid_set.batch(32).prefetch(1)\n",
        "test_set = raw_test_set.batch(32).prefetch(1)"
      ]
    },
    {
      "cell_type": "code",
      "source": [
        "for review,label in raw_train_set.take(4):\n",
        "  print(review.numpy()[:200],'...')\n",
        "  print('Label: ',label.numpy())"
      ],
      "metadata": {
        "colab": {
          "base_uri": "https://localhost:8080/"
        },
        "id": "tKOB5hlz-QKf",
        "outputId": "142dfe74-cc6b-43fb-b0b7-15fb2e62c139"
      },
      "execution_count": 12,
      "outputs": [
        {
          "output_type": "stream",
          "name": "stdout",
          "text": [
            "b\"This was an absolutely terrible movie. Don't be lured in by Christopher Walken or Michael Ironside. Both are great actors, but this must simply be their worst role in history. Even their great acting \" ...\n",
            "Label:  0\n",
            "b'I have been known to fall asleep during films, but this is usually due to a combination of things including, really tired, being warm and comfortable on the sette and having just eaten a lot. However ' ...\n",
            "Label:  0\n",
            "b'Mann photographs the Alberta Rocky Mountains in a superb fashion, and Jimmy Stewart and Walter Brennan give enjoyable performances as they always seem to do. <br /><br />But come on Hollywood - a Moun' ...\n",
            "Label:  0\n",
            "b'This is the kind of film for a snowy Sunday afternoon when the rest of the world can go ahead with its own business as you descend into a big arm-chair and mellow for a couple of hours. Wonderful perf' ...\n",
            "Label:  1\n"
          ]
        }
      ]
    },
    {
      "cell_type": "code",
      "source": [
        "vocab_size=1000\n",
        "text_vec_layer=tf.keras.layers.TextVectorization(max_tokens=vocab_size,output_mode='int',standardize='lower_and_strip_punctuation',split='whitespace')\n",
        "text_vec_layer.adapt(train_set.map(lambda review,label:review))"
      ],
      "metadata": {
        "id": "roFa4h41_cuR"
      },
      "execution_count": 13,
      "outputs": []
    },
    {
      "cell_type": "code",
      "source": [
        "embed_size=128\n",
        "tf.random.set_seed(42)\n",
        "model=tf.keras.Sequential([\n",
        "  text_vec_layer,\n",
        "  tf.keras.layers.Embedding(input_dim=vocab_size,output_dim=embed_size),\n",
        "  tf.keras.layers.GRU(128),\n",
        "  tf.keras.layers.Dense(1,activation='sigmoid')\n",
        "\n",
        "  ])\n",
        "model.compile(loss=\"binary_crossentropy\", optimizer=\"nadam\",\n",
        "metrics=[\"accuracy\"])\n",
        "history = model.fit(train_set, validation_data=valid_set, epochs=2)"
      ],
      "metadata": {
        "colab": {
          "base_uri": "https://localhost:8080/"
        },
        "id": "6gjFd8KGDuOH",
        "outputId": "db961576-10c5-4c92-cbfa-9645f7dedbca"
      },
      "execution_count": 14,
      "outputs": [
        {
          "output_type": "stream",
          "name": "stdout",
          "text": [
            "Epoch 1/2\n",
            "704/704 [==============================] - 49s 62ms/step - loss: 0.6935 - accuracy: 0.5020 - val_loss: 0.6931 - val_accuracy: 0.5008\n",
            "Epoch 2/2\n",
            "704/704 [==============================] - 25s 36ms/step - loss: 0.6926 - accuracy: 0.5050 - val_loss: 0.6939 - val_accuracy: 0.4988\n"
          ]
        }
      ]
    },
    {
      "cell_type": "code",
      "source": [
        "embed_size = 128\n",
        "tf.random.set_seed(42)\n",
        "model = tf.keras.Sequential([\n",
        "    text_vec_layer,\n",
        "    tf.keras.layers.Embedding(vocab_size, embed_size, mask_zero=True),\n",
        "    tf.keras.layers.GRU(128),\n",
        "    tf.keras.layers.Dense(1, activation=\"sigmoid\")\n",
        "])\n",
        "model.compile(loss=\"binary_crossentropy\", optimizer=\"nadam\",\n",
        "              metrics=[\"accuracy\"])\n",
        "history = model.fit(train_set, validation_data=valid_set, epochs=7)"
      ],
      "metadata": {
        "colab": {
          "base_uri": "https://localhost:8080/"
        },
        "id": "9exGGHVjHPD3",
        "outputId": "6b4fdd3e-737a-4fb1-8abc-2d52c6066c1c"
      },
      "execution_count": 15,
      "outputs": [
        {
          "output_type": "stream",
          "name": "stdout",
          "text": [
            "Epoch 1/7\n",
            "704/704 [==============================] - 50s 64ms/step - loss: 0.4779 - accuracy: 0.7663 - val_loss: 0.4820 - val_accuracy: 0.7924\n",
            "Epoch 2/7\n",
            "704/704 [==============================] - 26s 37ms/step - loss: 0.3511 - accuracy: 0.8525 - val_loss: 0.3356 - val_accuracy: 0.8616\n",
            "Epoch 3/7\n",
            "704/704 [==============================] - 24s 34ms/step - loss: 0.3017 - accuracy: 0.8750 - val_loss: 0.3164 - val_accuracy: 0.8708\n",
            "Epoch 4/7\n",
            "704/704 [==============================] - 25s 35ms/step - loss: 0.2740 - accuracy: 0.8890 - val_loss: 0.3097 - val_accuracy: 0.8704\n",
            "Epoch 5/7\n",
            "704/704 [==============================] - 24s 33ms/step - loss: 0.2547 - accuracy: 0.8983 - val_loss: 0.3308 - val_accuracy: 0.8488\n",
            "Epoch 6/7\n",
            "704/704 [==============================] - 23s 33ms/step - loss: 0.2415 - accuracy: 0.9025 - val_loss: 0.3596 - val_accuracy: 0.8524\n",
            "Epoch 7/7\n",
            "704/704 [==============================] - 23s 33ms/step - loss: 0.2229 - accuracy: 0.9123 - val_loss: 0.3356 - val_accuracy: 0.8604\n"
          ]
        }
      ]
    },
    {
      "cell_type": "code",
      "source": [
        "#prediction\n",
        "test_loss,test_acc=model.evaluate(test_set)\n",
        "print(test_loss,test_acc)"
      ],
      "metadata": {
        "colab": {
          "base_uri": "https://localhost:8080/"
        },
        "id": "cRwF1BnkQj8S",
        "outputId": "3059bbce-00b4-4f95-93fa-ae7b15ac6b78"
      },
      "execution_count": 17,
      "outputs": [
        {
          "output_type": "stream",
          "name": "stdout",
          "text": [
            "782/782 [==============================] - 30s 38ms/step - loss: 0.3882 - accuracy: 0.8238\n",
            "0.3881760239601135 0.8238400220870972\n"
          ]
        }
      ]
    },
    {
      "cell_type": "code",
      "metadata": {
        "colab": {
          "base_uri": "https://localhost:8080/"
        },
        "id": "dd27a4a1",
        "outputId": "cb159d2a-232a-4b97-9a30-6684d4bbc6b1"
      },
      "source": [
        "new_review = \"This movie was fantastic! I loved every minute of it.\"\n",
        "print(f\"Review: {new_review}\")\n",
        "print(f\"Prediction: {model.predict([new_review])[0][0]:.2f}\")"
      ],
      "execution_count": 18,
      "outputs": [
        {
          "output_type": "stream",
          "name": "stdout",
          "text": [
            "Review: This movie was fantastic! I loved every minute of it.\n",
            "1/1 [==============================] - 0s 412ms/step\n",
            "Prediction: 0.94\n"
          ]
        }
      ]
    },
    {
      "cell_type": "code",
      "metadata": {
        "colab": {
          "base_uri": "https://localhost:8080/"
        },
        "id": "5a59bb99",
        "outputId": "3ca75f9d-d2c0-47dd-8022-d2d430999698"
      },
      "source": [
        "difficult_review = \"This film wasn't bad, but it certainly wasn't great either. The plot was a bit convoluted, and the acting was mediocre. I wouldn't recommend it, but I wouldn't tell you to avoid it either.\"\n",
        "print(f\"Review: {difficult_review}\")\n",
        "print(f\"Prediction: {model.predict([difficult_review])[0][0]:.2f}\")"
      ],
      "execution_count": 19,
      "outputs": [
        {
          "output_type": "stream",
          "name": "stdout",
          "text": [
            "Review: This film wasn't bad, but it certainly wasn't great either. The plot was a bit convoluted, and the acting was mediocre. I wouldn't recommend it, but I wouldn't tell you to avoid it either.\n",
            "1/1 [==============================] - 0s 35ms/step\n",
            "Prediction: 0.05\n"
          ]
        }
      ]
    },
    {
      "cell_type": "code",
      "source": [
        "model.save(\"my_sent_analysis.keras\")"
      ],
      "metadata": {
        "id": "wzVofa9NRyqv"
      },
      "execution_count": null,
      "outputs": []
    }
  ]
}